{
 "cells": [
  {
   "cell_type": "code",
   "execution_count": null,
   "id": "ca2b98d8",
   "metadata": {},
   "outputs": [],
   "source": [
    "import math\n",
    "import numpy as np\n",
    "\n",
    "\n",
    "def translate(pos):\n",
    "    tx, ty, tz = pos\n",
    "    return np.array([\n",
    "        [1, 0, 0, 0],\n",
    "        [0, 1, 0, 0],\n",
    "        [0, 0, 1, 0],\n",
    "        [tx, ty, tz, 1]\n",
    "    ])\n",
    "\n",
    "\n",
    "def rotate_x(a):\n",
    "    return np.array([\n",
    "        [1, 0, 0, 0],\n",
    "        [0, math.cos(a), math.sin(a), 0],\n",
    "        [0, -math.sin(a), math.cos(a), 0],\n",
    "        [0, 0, 0, 1]\n",
    "    ])\n",
    "\n",
    "\n",
    "def rotate_y(a):\n",
    "    return np.array([\n",
    "        [math.cos(a), 0, -math.sin(a), 0],\n",
    "        [0, 1, 0, 0],\n",
    "        [math.sin(a), 0, math.cos(a), 0],\n",
    "        [0, 0, 0, 1]\n",
    "    ])\n",
    "\n",
    "\n",
    "def rotate_z(a):\n",
    "    return np.array([\n",
    "        [math.cos(a), math.sin(a), 0, 0],\n",
    "        [-math.sin(a), math.cos(a), 0, 0],\n",
    "        [0, 0, 1, 0],\n",
    "        [0, 0, 0, 1]\n",
    "    ])\n",
    "\n",
    "\n",
    "def scale(n):\n",
    "    return np.array([\n",
    "        [n, 0, 0, 0],\n",
    "        [0, n, 0, 0],\n",
    "        [0, 0, n, 0],\n",
    "        [0, 0, 0, 1]\n",
    "    ])"
   ]
  }
 ],
 "metadata": {
  "kernelspec": {
   "display_name": "Python 3",
   "language": "python",
   "name": "python3"
  },
  "language_info": {
   "codemirror_mode": {
    "name": "ipython",
    "version": 3
   },
   "file_extension": ".py",
   "mimetype": "text/x-python",
   "name": "python",
   "nbconvert_exporter": "python",
   "pygments_lexer": "ipython3",
   "version": "3.8.8"
  }
 },
 "nbformat": 4,
 "nbformat_minor": 5
}
