{
 "cells": [
  {
   "cell_type": "code",
   "execution_count": null,
   "id": "06dc74a5",
   "metadata": {},
   "outputs": [],
   "source": [
    "import math\n",
    "import numpy as np\n",
    "\n",
    "\n",
    "class Projection:\n",
    "    def __init__(self, render):\n",
    "        NEAR = render.camera.near_plane\n",
    "        FAR = render.camera.far_plane\n",
    "        RIGHT = math.tan(render.camera.h_fov / 2)\n",
    "        LEFT = -RIGHT\n",
    "        TOP = math.tan(render.camera.v_fov / 2)\n",
    "        BOTTOM = -TOP\n",
    "\n",
    "        m00 = 2 / (RIGHT - LEFT)\n",
    "        m11 = 2 / (TOP - BOTTOM)\n",
    "        m22 = (FAR + NEAR) / (FAR - NEAR)\n",
    "        m32 = -2 * NEAR * FAR / (FAR - NEAR)\n",
    "        self.projection_matrix = np.array([\n",
    "            [m00, 0, 0, 0],\n",
    "            [0, m11, 0, 0],\n",
    "            [0, 0, m22, 1],\n",
    "            [0, 0, m32, 0]\n",
    "        ])\n",
    "\n",
    "        HW, HH = render.H_WIDTH, render.H_HEIGHT\n",
    "        self.to_screen_matrix = np.array([\n",
    "            [HW, 0, 0, 0],\n",
    "            [0, -HH, 0, 0],\n",
    "            [0, 0, 1, 0],\n",
    "            [HW, HH, 0, 1]\n",
    "        ])"
   ]
  }
 ],
 "metadata": {
  "kernelspec": {
   "display_name": "Python 3",
   "language": "python",
   "name": "python3"
  },
  "language_info": {
   "codemirror_mode": {
    "name": "ipython",
    "version": 3
   },
   "file_extension": ".py",
   "mimetype": "text/x-python",
   "name": "python",
   "nbconvert_exporter": "python",
   "pygments_lexer": "ipython3",
   "version": "3.8.8"
  }
 },
 "nbformat": 4,
 "nbformat_minor": 5
}
